{
  "nbformat": 4,
  "nbformat_minor": 0,
  "metadata": {
    "colab": {
      "name": "Project_Proposal.ipynb",
      "provenance": [],
      "collapsed_sections": [
        "D_PtaYVTt78V",
        "V_T8y7Mst7-v",
        "w_aMTSzJt8Gx"
      ],
      "toc_visible": true
    },
    "kernelspec": {
      "name": "python3",
      "display_name": "Python 3"
    }
  },
  "cells": [
    {
      "cell_type": "markdown",
      "metadata": {
        "id": "MISomHUWt75e",
        "colab_type": "text"
      },
      "source": [
        "# Project Proposal: Applying Deep Learning in Keras to a High-Energy Particle Physics Dataset\n",
        "\n",
        "## *Kevin Benson*\n",
        "\n",
        "### *September 22, 2020*"
      ]
    },
    {
      "cell_type": "markdown",
      "metadata": {
        "id": "D_PtaYVTt78V",
        "colab_type": "text"
      },
      "source": [
        "## Introduction\n",
        "\n",
        "In this project, I will explore using deep learning methods in order to develop classification models to identify signal events in high-energy physics datasets.  In experiments like the Large Hadron Collider (LHC) at CERN (European Center for Nuclear Research), detectors collect massive volumes of observational data relating to particle collisions at high energy.  Such collisions are intended to produce conditions that may allow for the creation of new and exotic particles.  The discovery of these particles may help physicists to better understand the elementary constituents of matter and the fundamental forces of nature.\n",
        "\n",
        "Because of the high volume of data and relative rarity of new particles, efficients methods of data analysis have to be implemented in order to discriminate signal events from the background noise.  Deep learning, or deep neural networks, have demonstrated the potential to do this with relatively high accuracy.  Prior published work appear to implement deep neural network models using older Python libraries such as Theano, Pylearn2, or the previous (1.x) version of TensorFlow.  In this project I plan to work with the Keras library on TensorFlow 2.3 within the Google Colaboratory environment.\n",
        "\n"
      ]
    },
    {
      "cell_type": "markdown",
      "metadata": {
        "id": "V_T8y7Mst7-v",
        "colab_type": "text"
      },
      "source": [
        "## Relevant literature\n",
        "\n",
        "Literature over the last 7 years has shown increasing research interest in the application of machine learning methods to particle detection in high-energy physics.  Relevant research includes the following articles. \n",
        "\n",
        "In Baldi, Sadowski, and Whiteson [1], the authors demonstrate that deep learning tools based on neural networks can effectively discriminate between signal events (new particles) and background noise.  The authors consider two benchmark datasets relating to particle detection of the Higgs boson and supersymmetry particles.  In both cases they construct classification models based on neural networks, boosted decision trees, and deep neural networks.  Their results indicate that deep neural networks are more effective at classification than the other two methods, and also do not require high-level feature engineering.  The models were implemented using Theano and Pylearn2 libraries in Python, which are no longer supported.\n",
        "\n",
        "Guest, Cranmer, and Whiteson [2] provide a survey of machine learning techniques applied to data analysis for high-energy physics.  The authors start from first principles and explain the problem of particle detection as one of identifying extremely low-frequency signals in a high-dimensional data space.  They describe early machine learning approaches such as \"shallow\" neural networks based on highly engineered data features in a lower-dimensional space, and discuss how the field has moved to deep neural networks based on lower-level data in a much higher-dimensional space.  The deep neural network models tend to obviate the need for extensive feature engineering and pre-processing, while at the same improving classification performance.  Of course, this comes at the cost of more intensive computational resources and data infrastructure.\n",
        "\n",
        "Ojika, Acosta, Ross, et. al. [3] report on their investigation of deep learning methods applied to data analysis from the LHC experiment at CERN.  The authors developed two neural network models based on two and three sequential layers, and then applied them to a benchmark Higgs classification dataset.  The models were implemented in TensorFlow and Theano, running on a supercomputer cluster at the San Diego Supercomputing Center.  The results of the analysis indicated that the second model with three sequential layers generated stronger prediction accuracy.  The authors suggest ideas for further work, including increasing the number of network layers, comparing different loss optimizers, and developing more efficient computational design. \n"
      ]
    },
    {
      "cell_type": "markdown",
      "metadata": {
        "id": "Qh3H43N_t8Dw",
        "colab_type": "text"
      },
      "source": [
        "## Research questions\n",
        "\n",
        "In this project, I plan to develop one or more classification models that can be applied to signal detection in a high-energy particle physics dataset.  \n",
        "\n",
        "Questions to address including the following:\n",
        "\n",
        "* What are key design parameters for training a neural network model on this data?\n",
        "\n",
        "* Do the engineered features provide any predictive power to the model beyond the primary features?\n",
        "\n",
        "* How does model performance vary as a function of:\n",
        "  + Number of layers\n",
        "  + Number of units\n",
        "  + Choice of layer activation\n",
        "  + Choice of loss optimizers\n",
        "\n",
        "* What are practical constraints (processing time / cost) given the computational environment?"
      ]
    },
    {
      "cell_type": "markdown",
      "metadata": {
        "id": "w_aMTSzJt8Gx",
        "colab_type": "text"
      },
      "source": [
        "## Research methodology\n",
        "\n",
        "### Data\n",
        "The source of the data is the [Higgs dataset](https://archive.ics.uci.edu/ml/datasets/HIGGS#) located in the UCI Machine Learning Repository.  The dataset includes 11 million observations of 28 numerical attributes, of which the first 21 features are direct particle measurements, while the last 7 are engineered features derived from the primary measurements.  The target variable consists of binary class labels (1 = signal, 0 = background).\n",
        "\n",
        "### Modeling approach\n",
        "\n",
        "I plan to use the Keras and TensorFlow libraries working in the Google Colaboratory environment.  If needed, I may upgrade to Colab Pro or Amazon EC2 in order to access faster computing resources.  My expectation is to use the standard Keras framework for model training and testing.  If my computing environment permits, I also plan to use the hyperparameter tuning feature in Keras in order to optimize model performance.\n",
        "\n",
        "### Performance metrics\n",
        "\n",
        "Model performance will be evaluated using ROC plots, AUC, accuracy, and other classification metrics.  In addition, I plan to track processing time and cost.\n"
      ]
    },
    {
      "cell_type": "markdown",
      "metadata": {
        "id": "7hW4WMoEt8Jf",
        "colab_type": "text"
      },
      "source": [
        "## References\n",
        "\n",
        "[1] Baldi, P., P. Sadowski, and D. Whiteson.  “Searching for exotic particles in high-energy physics with deep learning.”  Nature Communications 5 (July 2, 2014).  \n",
        "\n",
        "[2] Guest, D., K Cranmer, and D Whiteson.  \"Deep Learning and Its Application to LHC Physics.\"  Annual Review of Nuclear and Particle Science 2018 (68:1-22).\n",
        "\n",
        "[3] Ojika, D., D. Acosta, A. Gordon-Ross, et. al.  \"Accelerating High-energy Physics Exploration with Deep Learning.\"  PEARC17: Proceedings of the Practice and Experience in Advanced Research Computing 2017, Article Number 37."
      ]
    }
  ]
}